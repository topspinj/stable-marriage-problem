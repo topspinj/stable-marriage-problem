{
 "cells": [
  {
   "cell_type": "markdown",
   "metadata": {},
   "source": [
    "# Stable Matching Problem\n",
    "\n",
    "The Stable Matching Problem (SMP) is a classic mathematics problem that involves combinatorial theory of orderded sets. Though SMP was initially described in the context of marriage, it has applications in other fields such as matching medical students to residency programs (e.g., [NRMP](http://www.nrmp.org/matching-algorithm/) and [CaRMS](https://www.carms.ca/the-match/how-it-works/)) and college admissions. \n",
    "\n",
    "In the example of marriage, the problem involves a set of women and a set of men of equal size. Both women and men list in order of preference the members of the other sex. For example:\n",
    "\n",
    "<img src=\"imgs/matching.png\" width=\"60%\">\n",
    "\n",
    "\n",
    "The challenge is to assign men to women (or vice versa) in a way that takes into account their preferences. A matching is deemed unstable if:\n",
    "- woman A and man A are paired but woman A prefers man B **and**\n",
    "- man B is paired with woman B but prefers woman A \n",
    "\n",
    "This would be considered an unstable marriage since woman A and man B simultaneously prefer each other than their respective matches. The goal is to determine the optimal assignments such that all matchings are stable.\n",
    "\n",
    "<img src=\"imgs/unstable-match.png\" width=\"30%\">\n",
    "\n",
    "\n",
    "In 1962, David Gale and Lloyd Shapely developed an [algorithm](http://www.dtic.mil/dtic/tr/fulltext/u2/251958.pdf) to solve this problem. The algorithm works under the following assumptions:\n",
    "1. Women can only propose to men, not vice versa.\n",
    "2. If woman $w$ proposes to man $m$ and $m$ is free, then $w$ and $m$ become engaged.\n",
    "3. If a man gets multiple proposals, he rejects all but his top choice.\n",
    "4. Each rejected woman proposes to her next best choice regardless of whether that man is currently engaged.\n",
    "5. If an engaged man receives a proposal from a woman that he prefers over his current woman, he breaks his proposal and becomes engaged to his preferred choice.\n",
    "6. These steps are repeated until all proposals (matchings) are stable."
   ]
  },
  {
   "cell_type": "markdown",
   "metadata": {},
   "source": [
    "The code below is an implementation of the Gale-Shapely algorithm in Python. We have 5 women (Juliette, Maeve, Sadie, Libby, Bianca) and 5 men (Romeo, Baxter, Asher, Frank, Lego), and our goal is to pair them in such a way that all matchings are stable.  "
   ]
  },
  {
   "cell_type": "code",
   "execution_count": 22,
   "metadata": {},
   "outputs": [],
   "source": [
    "women = {\"Juliette\":[\"Romeo\", \"Baxter\", \"Frank\", \"Leo\", \"Asher\"],\n",
    "         \"Maeve\":[\"Baxter\", \"Leo\", \"Asher\", \"Romeo\", \"Frank\"],\n",
    "         \"Sadie\":[\"Baxter\", \"Asher\", \"Leo\", \"Frank\", \"Romeo\"],\n",
    "         \"Libby\": [\"Leo\", \"Frank\",\"Romeo\",\"Asher\",\"Baxter\"],\n",
    "         \"Bianca\":[\"Asher\", \"Baxter\", \"Frank\", \"Romeo\",\"Leo\"]}"
   ]
  },
  {
   "cell_type": "code",
   "execution_count": 23,
   "metadata": {},
   "outputs": [],
   "source": [
    "men = {\"Romeo\":[\"Libby\", \"Maeve\",\"Sadie\",\"Bianca\", \"Juliette\"],\n",
    "       \"Baxter\":[\"Juliette\", \"Maeve\", \"Bianca\", \"Sadie\",\"Libby\"],\n",
    "       \"Asher\": [\"Sadie\", \"Libby\", \"Bianca\", \"Juliette\", \"Maeve\"],\n",
    "       \"Frank\": [\"Juliette\", \"Bianca\",\"Libby\",\"Maeve\",\"Bianca\"],\n",
    "       \"Leo\":[\"Juliette\", \"Libby\", \"Bianca\", \"Sadie\",\"Maeve\"]}"
   ]
  },
  {
   "cell_type": "code",
   "execution_count": 24,
   "metadata": {},
   "outputs": [],
   "source": [
    "def matchmaker(suitor_picks, reviewer_picks):\n",
    "    suitors = list(suitor_picks.keys())\n",
    "    matching = {s: None for s in suitors}\n",
    "    \n",
    "    while suitors:\n",
    "        s = suitors.pop(0)\n",
    "        r = suitor_picks[s][0]\n",
    "        if r not in matching.values():\n",
    "            matching[s] = r\n",
    "        else:\n",
    "            for suitor, reviewer in matching.items():\n",
    "                if reviewer == r:\n",
    "                    r_partner = suitor\n",
    "            if reviewer_picks[r].index(s) < reviewer_picks[r].index(r_partner):\n",
    "                matching[r_partner] = None\n",
    "                matching[s] = r\n",
    "                suitors.append(r_partner)\n",
    "            else:\n",
    "                suitor_picks[s].remove(r)\n",
    "                suitors.append(s)\n",
    "    return matching"
   ]
  },
  {
   "cell_type": "markdown",
   "metadata": {},
   "source": [
    "### Trial 1: men are the suitors, women are the reviewers"
   ]
  },
  {
   "cell_type": "code",
   "execution_count": 25,
   "metadata": {},
   "outputs": [
    {
     "data": {
      "text/plain": [
       "{'Romeo': 'Maeve',\n",
       " 'Baxter': 'Juliette',\n",
       " 'Asher': 'Sadie',\n",
       " 'Frank': 'Bianca',\n",
       " 'Leo': 'Libby'}"
      ]
     },
     "execution_count": 25,
     "metadata": {},
     "output_type": "execute_result"
    }
   ],
   "source": [
    "matchmaker(men,women)"
   ]
  },
  {
   "cell_type": "markdown",
   "metadata": {},
   "source": [
    "### Trial 2: women are the suitors, men are the reviewers"
   ]
  },
  {
   "cell_type": "code",
   "execution_count": 26,
   "metadata": {},
   "outputs": [
    {
     "data": {
      "text/plain": [
       "{'Juliette': 'Romeo',\n",
       " 'Maeve': 'Baxter',\n",
       " 'Sadie': 'Asher',\n",
       " 'Libby': 'Leo',\n",
       " 'Bianca': 'Frank'}"
      ]
     },
     "execution_count": 26,
     "metadata": {},
     "output_type": "execute_result"
    }
   ],
   "source": [
    "matchmaker(women,men)"
   ]
  },
  {
   "cell_type": "markdown",
   "metadata": {},
   "source": [
    "As shown above, the matchings are different based on whether the men vs. women were \"suitors\" vs. \"reviewers\". In both situations, sutiors are assigned their best possible match. A suitor's final matching might not be their top choice, but this is because their top choice has rejected him or her along the way for a better suitor. Furthermore, reviewers (i.e., the ones receiving the proposal) are assigned their  worst possible match, while still maintaining stable matchings. While it may seem like the person receiving the proposal has more choice in their ultimate partner, the Gale-Shapely algorithm demonstrates that the suitor who makes the proposals will have their optimal match. \n",
    "\n",
    "The beauty of this algorithm is that it will always find stable matchings regardless of population size."
   ]
  },
  {
   "cell_type": "markdown",
   "metadata": {},
   "source": [
    "## Extending the Gale-Shapely algorithm to medical residency\n",
    "\n",
    "Medical residency matching is a variant of SMP in which a hospital is \"polygamous\" and can accept multiple residents at a time. We no longer assume that there are an equal number of residents and hospitals. It's possible that there are more applicants than residency spots at hospitals. We also no longer assume that all residents will rank all possible hospitals in their preference list, and vice versa. \n",
    "\n",
    "Let's say we have 5 applicants (Chen, Feldman, Smith, Gianotti, and Markov) and 4 hospitals (Harvard, Duke, McGill, Stanford), and each hospital has 2 residency spots available."
   ]
  },
  {
   "cell_type": "code",
   "execution_count": 37,
   "metadata": {},
   "outputs": [],
   "source": [
    "residents = {'Chen':['Harvard', 'Stanford','Duke'],\n",
    "            'Feldman':['Duke','Stanford','Harvard'],\n",
    "            'Smith':['Harvard','Stanford','McGill'],\n",
    "            'Gianotti':['Stanford'],\n",
    "            'Markov':['Harvard','McGill','Stanford'],\n",
    "            'Anderson':['McGill','Duke','Harvard']}\n",
    "\n",
    "hospitals = {'Harvard':['Chen','Gianotti','Feldman'],\n",
    "            'Duke':['Feldman','Smith','Anderson'],\n",
    "            'McGill':['Gianotti','Chen','Markov'],\n",
    "            'Stanford':['Smith','Anderson','Chen']}"
   ]
  },
  {
   "cell_type": "markdown",
   "metadata": {},
   "source": [
    "In this scenario, residents are the \"suitors\" and hospitals are the \"reviewers\". The algorithm works as follows:\n",
    "- If a resident is not ranked by a given hospital, remove that hospital from the preference list of the resident\n",
    "- Each resident \"proposes\" to their first choice hospital\n",
    "- If a hospital has multiple offers, the hospital rejects all but its first choice\n",
    "- Each rejected resident then proposes to their next top choice\n",
    "- If an occupied hospital recieves an offer from a new resident that is higher on the list than its current resident, then the hospital breaks its original offer and becomes matched to its preferred choice.\n",
    "\n",
    "These steps are almost identical to the original Gale-Shapely algorithm. To handle the one-to-many relationship between hospitals and residents, a hospital is divded into n \"sub-hosiptals\" with each sub-hospital having the same preferences as the original hospital. "
   ]
  },
  {
   "cell_type": "code",
   "execution_count": 44,
   "metadata": {},
   "outputs": [],
   "source": [
    "import numpy as np\n",
    "\n",
    "def residency_matching(resident_picks, hospital_picks, capacities):\n",
    "    \"\"\"\n",
    "    Assigns residents to hospitals such that\n",
    "    stable matching is achieved.\n",
    "    \n",
    "    Parameters\n",
    "    ----------\n",
    "    resident_picks : dict\n",
    "        A dictionary with residents as keys and their\n",
    "        preference lists as values\n",
    "    hospital_picks : dict\n",
    "        A dictionary with hospitals as keys and their\n",
    "        preference lists as values\n",
    "    capacities : dict\n",
    "        A dictionary with hospitals as keys and\n",
    "        their number of available spots as values\n",
    "\n",
    "    Returns\n",
    "    -------\n",
    "    tuple\n",
    "        a tuple consisting of two dictionaries that describe\n",
    "        stable matchings of residents-hospitals and hospitals-residents.\n",
    "    \"\"\"\n",
    "    residents = list(resident_picks.keys())\n",
    "    resident_matching = {r: None for r in resident_picks.keys()}\n",
    "    hospital_matching = {h: [] for h in hospital_picks.keys()}\n",
    "\n",
    "    while residents:\n",
    "        r = residents.pop(0)\n",
    "        # let r_p be the preferences of resident r\n",
    "        r_p = resident_picks[r]\n",
    "        while r_p and (not resident_matching[r]):\n",
    "            if r not in hospital_picks[r_p[0]]:\n",
    "                r_p.remove(r_p[0])\n",
    "            if r_p:\n",
    "                h = r_p[0]\n",
    "                # let h_p be the preferences of hospital h\n",
    "                h_p = hospital_picks[h] \n",
    "                # let h_matches be the matched residents for hospital h \n",
    "                h_matches = hospital_matching[h]\n",
    "                if len(h_matches) < capacities[h]:\n",
    "                    resident_matching[r] = h\n",
    "                    hospital_matching[h] += [r]\n",
    "                else:\n",
    "                    # r_rank is a given resident's rank within a hospital's preference list\n",
    "                    r_rank = h_p.index(r)\n",
    "                    worst_rank = np.max([h_p.index(i) for i in h_p if i in h_matches])\n",
    "                    worst_match = h_p[worst_rank]\n",
    "                    if r_rank < worst_rank:\n",
    "                        hospital_matching[worst_match] = None\n",
    "                        h_matches.remove(worst_match)\n",
    "                        resident_picks[worst_match].remove(r)\n",
    "                        residents.append(worst_match)\n",
    "\n",
    "                        hospital_matching[r] = h\n",
    "                        h_matches += [r]\n",
    "                    else:\n",
    "                        h_p.remove(r)\n",
    "                        r_p.remove(h)\n",
    "\n",
    "    return resident_matching, hospital_matching"
   ]
  },
  {
   "cell_type": "markdown",
   "metadata": {},
   "source": [
    "Let's assume that each hospital has 2 residency spots. "
   ]
  },
  {
   "cell_type": "code",
   "execution_count": 46,
   "metadata": {},
   "outputs": [],
   "source": [
    "capacities = {'Harvard' : 2, 'Duke': 2, 'McGill': 2, 'Stanford': 2}\n",
    "resident_matches, hospital_matches = residency_matching(residents, hospitals, capacities)"
   ]
  },
  {
   "cell_type": "code",
   "execution_count": 47,
   "metadata": {},
   "outputs": [
    {
     "data": {
      "text/plain": [
       "{'Chen': 'Harvard',\n",
       " 'Feldman': 'Duke',\n",
       " 'Smith': 'Stanford',\n",
       " 'Gianotti': None,\n",
       " 'Markov': 'McGill',\n",
       " 'Anderson': 'Duke'}"
      ]
     },
     "execution_count": 47,
     "metadata": {},
     "output_type": "execute_result"
    }
   ],
   "source": [
    "resident_matches"
   ]
  },
  {
   "cell_type": "code",
   "execution_count": 48,
   "metadata": {},
   "outputs": [
    {
     "data": {
      "text/plain": [
       "{'Harvard': ['Chen'],\n",
       " 'Duke': ['Feldman', 'Anderson'],\n",
       " 'McGill': ['Markov'],\n",
       " 'Stanford': ['Smith']}"
      ]
     },
     "execution_count": 48,
     "metadata": {},
     "output_type": "execute_result"
    }
   ],
   "source": [
    "hospital_matches"
   ]
  },
  {
   "cell_type": "markdown",
   "metadata": {},
   "source": [
    "`residency_matching()` returns two dictionaries: one that describes a resident's final assignment and the other that describes a hospital's assigned residents. Note that in this algorithm, the residents are the \"suitors\" so ultimately, the final results will reflect their best possible match.\n",
    "\n",
    "That being said, if a resident has ranked a set of hospitals but those hospitals have not reciprocated, this means that the resident's preference list is empty. As a result, this resident will go \"unmatched\". For example, Gianotti only ranked Stanford in its preference list but Stanford did not list Gianotti. Though Harvard and McGill ranked Gianotti and had capacity for him, Gianotti ultiamtely is left iwhtout an assigned hospital. In a typical medical residency admissions process, there is a second round of the algorithm in which unmatched residents have a second chance at matching with hospitals that have available residency spots."
   ]
  },
  {
   "cell_type": "code",
   "execution_count": null,
   "metadata": {},
   "outputs": [],
   "source": []
  }
 ],
 "metadata": {
  "kernelspec": {
   "display_name": "Python 3",
   "language": "python",
   "name": "python3"
  },
  "language_info": {
   "codemirror_mode": {
    "name": "ipython",
    "version": 3
   },
   "file_extension": ".py",
   "mimetype": "text/x-python",
   "name": "python",
   "nbconvert_exporter": "python",
   "pygments_lexer": "ipython3",
   "version": "3.6.5"
  }
 },
 "nbformat": 4,
 "nbformat_minor": 2
}
