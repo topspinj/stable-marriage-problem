{
 "cells": [
  {
   "cell_type": "markdown",
   "metadata": {},
   "source": [
    "### Stable Marriage Problem\n",
    "\n",
    "This algorithm was developed by David Gayle and Lloyd Shapely in 1962."
   ]
  },
  {
   "cell_type": "code",
   "execution_count": 81,
   "metadata": {},
   "outputs": [],
   "source": [
    "women = {\"Juliette\":[\"Romeo\", \"Baxter\", \"Frank\", \"Leo\", \"Asher\"],\n",
    "         \"Maeve\":[\"Baxter\", \"Leo\", \"Asher\", \"Romeo\", \"Frank\"],\n",
    "         \"Sadie\":[\"Baxter\", \"Asher\", \"Leo\", \"Frank\", \"Romeo\"],\n",
    "         \"Libby\": [\"Leo\", \"Frank\",\"Romeo\",\"Asher\",\"Baxter\"],\n",
    "         \"Bianca\":[\"Asher\", \"Baxter\", \"Frank\", \"Romeo\",\"Leo\"]}"
   ]
  },
  {
   "cell_type": "code",
   "execution_count": 82,
   "metadata": {},
   "outputs": [],
   "source": [
    "men = {\"Romeo\":[\"Libby\", \"Maeve\",\"Sadie\",\"Bianca\", \"Juliette\"],\n",
    "       \"Baxter\":[\"Juliette\", \"Maeve\", \"Bianca\", \"Sadie\",\"Libby\"],\n",
    "       \"Asher\": [\"Sadie\", \"Libby\", \"Bianca\", \"Juliette\", \"Maeve\"],\n",
    "       \"Frank\": [\"Juliette\", \"Bianca\",\"Libby\",\"Maeve\",\"Bianca\"],\n",
    "       \"Leo\":[\"Juliette\", \"Libby\", \"Bianca\", \"Sadie\",\"Maeve\"]}"
   ]
  },
  {
   "cell_type": "code",
   "execution_count": 88,
   "metadata": {},
   "outputs": [],
   "source": [
    "def matchmaker(suitor_picks, reviewer_picks):\n",
    "    suitors = list(suitor_picks.keys())\n",
    "    matched = {s: None for s in suitors}\n",
    "    \n",
    "    while len(suitors) > 0:\n",
    "        s = suitors.pop(0)\n",
    "        r = suitor_picks[s][0]\n",
    "        if r not in matched.values():\n",
    "            matched[s] = r\n",
    "        else:\n",
    "            for suitor, reviewer in matched.items():\n",
    "                if reviewer == r:\n",
    "                    r_partner = suitor\n",
    "            if reviewer_picks[r].index(s) < reviewer_picks[r].index(r_partner):\n",
    "                matched[r_partner] = None\n",
    "                matched[s] = r\n",
    "                suitors.append(r_partner)\n",
    "            else:\n",
    "                suitor_picks[s].remove(r)\n",
    "                suitors.append(s)\n",
    "    return matched"
   ]
  },
  {
   "cell_type": "code",
   "execution_count": 89,
   "metadata": {},
   "outputs": [
    {
     "data": {
      "text/plain": [
       "{'Romeo': 'Maeve',\n",
       " 'Baxter': 'Juliette',\n",
       " 'Asher': 'Sadie',\n",
       " 'Frank': 'Bianca',\n",
       " 'Leo': 'Libby'}"
      ]
     },
     "execution_count": 89,
     "metadata": {},
     "output_type": "execute_result"
    }
   ],
   "source": [
    "matchmaker(men,women)"
   ]
  },
  {
   "cell_type": "code",
   "execution_count": 90,
   "metadata": {},
   "outputs": [
    {
     "data": {
      "text/plain": [
       "{'Juliette': 'Romeo',\n",
       " 'Maeve': 'Baxter',\n",
       " 'Sadie': 'Asher',\n",
       " 'Libby': 'Leo',\n",
       " 'Bianca': 'Frank'}"
      ]
     },
     "execution_count": 90,
     "metadata": {},
     "output_type": "execute_result"
    }
   ],
   "source": [
    "matchmaker(women,men)"
   ]
  },
  {
   "cell_type": "code",
   "execution_count": null,
   "metadata": {},
   "outputs": [],
   "source": []
  }
 ],
 "metadata": {
  "kernelspec": {
   "display_name": "Python 3",
   "language": "python",
   "name": "python3"
  },
  "language_info": {
   "codemirror_mode": {
    "name": "ipython",
    "version": 3
   },
   "file_extension": ".py",
   "mimetype": "text/x-python",
   "name": "python",
   "nbconvert_exporter": "python",
   "pygments_lexer": "ipython3",
   "version": "3.6.5"
  }
 },
 "nbformat": 4,
 "nbformat_minor": 2
}
